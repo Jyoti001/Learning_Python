{
 "cells": [
  {
   "cell_type": "code",
   "execution_count": null,
   "metadata": {},
   "outputs": [],
   "source": [
    "Module - Highest Level Program structure, basic python program file\n",
    "import\n",
    "from\n",
    "import imp\n",
    "imp.reload "
   ]
  },
  {
   "cell_type": "code",
   "execution_count": null,
   "metadata": {},
   "outputs": [],
   "source": [
    "Benefits of modules - \n",
    "code reuse\n",
    "system namespace partioning\n",
    "implementing shared services/ data"
   ]
  },
  {
   "cell_type": "code",
   "execution_count": null,
   "metadata": {},
   "outputs": [],
   "source": [
    "Modulefiles usually do not do anything on its own, define attributes which can be used by othermodules by importing\n",
    "when we import any module, that module is executed line by line and all the top level attributes defined in this module will be accessible to the caller program\n"
   ]
  },
  {
   "cell_type": "markdown",
   "metadata": {},
   "source": [
    "## How import works"
   ]
  },
  {
   "cell_type": "code",
   "execution_count": null,
   "metadata": {},
   "outputs": [],
   "source": [
    "when a program imports a module the first time , 3 steps occur\n",
    "1) Find the module\n",
    "2) Compile the module\n",
    "3) Run the module\n",
    "Once these 3 steps are done, the loaded module is stord in sys.modules table and all further imports within the same execution of the program will refer it rather than executing the same 3 aboe steps"
   ]
  },
  {
   "cell_type": "markdown",
   "metadata": {},
   "source": [
    "## Compiling of the module"
   ]
  },
  {
   "cell_type": "code",
   "execution_count": null,
   "metadata": {},
   "outputs": [],
   "source": [
    "when file imported the first time, it is compiled and .pyc file created under __pycache__ folder\n",
    "next time if the same module imported, its creation time compared with the .pyc file (this file has encrypted date, time and version) and if .pyc found to be older, again compiled else .pyc file reused\n",
    "compilation step takes place only the first time import is loaded else not\n",
    "reload can be used to reflect the changes in the module, but should be imported first else no reload"
   ]
  },
  {
   "cell_type": "markdown",
   "metadata": {},
   "source": [
    "## Searching for modules in import"
   ]
  },
  {
   "cell_type": "code",
   "execution_count": null,
   "metadata": {},
   "outputs": [],
   "source": [
    "1) Current working directory (automatic)\n",
    "2) Standard library directories - directories where stamdard libraries are installed\n",
    "3) PYTHONPATH directories(optional)\n",
    "4) contents of .pth file (if present)\n",
    "5) site-packages"
   ]
  },
  {
   "cell_type": "markdown",
   "metadata": {},
   "source": [
    "## PYTHONPATH"
   ]
  },
  {
   "cell_type": "code",
   "execution_count": null,
   "metadata": {},
   "outputs": [],
   "source": [
    "list of user defined and platform specific names of directories that python can look for while searching for a module (if set)\n",
    "set as environment variable in Windows"
   ]
  },
  {
   "cell_type": "code",
   "execution_count": null,
   "metadata": {},
   "outputs": [],
   "source": [
    "pydirs.pth file in C:/Python3 \n",
    "normal text file containinglist of all directories where to look for"
   ]
  },
  {
   "cell_type": "markdown",
   "metadata": {},
   "source": [
    "## Check where currently python is searching for python files"
   ]
  },
  {
   "cell_type": "code",
   "execution_count": 2,
   "metadata": {},
   "outputs": [],
   "source": [
    "import sys"
   ]
  },
  {
   "cell_type": "code",
   "execution_count": null,
   "metadata": {},
   "outputs": [],
   "source": [
    "sys.path"
   ]
  },
  {
   "cell_type": "markdown",
   "metadata": {},
   "source": [
    "## namespace"
   ]
  },
  {
   "cell_type": "code",
   "execution_count": null,
   "metadata": {},
   "outputs": [],
   "source": [
    "self contained package of variables, which are known as attributes of the namespace object. A module's namespace contains all the names assigned by the code at the top level of the module file"
   ]
  }
 ],
 "metadata": {
  "kernelspec": {
   "display_name": "Python 3",
   "language": "python",
   "name": "python3"
  },
  "language_info": {
   "codemirror_mode": {
    "name": "ipython",
    "version": 3
   },
   "file_extension": ".py",
   "mimetype": "text/x-python",
   "name": "python",
   "nbconvert_exporter": "python",
   "pygments_lexer": "ipython3",
   "version": "3.7.0"
  }
 },
 "nbformat": 4,
 "nbformat_minor": 2
}
