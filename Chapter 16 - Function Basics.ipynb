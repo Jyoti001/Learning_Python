{
 "cells": [
  {
   "cell_type": "markdown",
   "metadata": {},
   "source": [
    "## Important points about functions"
   ]
  },
  {
   "cell_type": "markdown",
   "metadata": {},
   "source": [
    "##### def is an executable statement, can be even embedded inside if and else\n",
    "##### def creates a function object, which is referenced by the function name\n",
    "##### lambda also creates a function object but it returns this function object\n",
    "##### return - returns the object to the caller\n",
    "##### yield - returns the object to the caller, but also remebers where i left off\n",
    "##### global keyword used to assign a value to the variable which is defined at the module level\n",
    "##### nonlocal keyword used to assign value to variable which is defined in the enclosing function\n",
    "##### Arguments are passed by reference\n",
    "##### function defined using def is not evaluated until we reach that statement\n",
    "##### code inside function body will not execute until the function is called\n",
    "##### Polymorphism - operator operates differently depending upon the type of operands"
   ]
  },
  {
   "cell_type": "code",
   "execution_count": null,
   "metadata": {},
   "outputs": [],
   "source": []
  }
 ],
 "metadata": {
  "kernelspec": {
   "display_name": "Python 3",
   "language": "python",
   "name": "python3"
  },
  "language_info": {
   "codemirror_mode": {
    "name": "ipython",
    "version": 3
   },
   "file_extension": ".py",
   "mimetype": "text/x-python",
   "name": "python",
   "nbconvert_exporter": "python",
   "pygments_lexer": "ipython3",
   "version": "3.7.0"
  }
 },
 "nbformat": 4,
 "nbformat_minor": 2
}
